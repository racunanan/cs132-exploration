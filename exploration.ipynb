{
 "cells": [
  {
   "cell_type": "markdown",
   "id": "0ffd806b",
   "metadata": {},
   "source": [
    "# Data Exploration"
   ]
  },
  {
   "cell_type": "markdown",
   "id": "fe74b223",
   "metadata": {},
   "source": [
    "## Missing Data\n",
    "\n",
    "Missing data was addressed in the following columns as follows:\n",
    "1. Account bio      -> N/A\n",
    "2. Location         -> N/A\n",
    "3. Tweet Translated -> N/A\n",
    "4. Screenshot       -> N/A\n",
    "5. Rating           -> N/A\n",
    "6. Remarks          -> N/A\n",
    "7. Quote Tweets     -> 0\n",
    "\n",
    "---\n",
    "\n",
    "## One Hot Encoding\n",
    "\n",
    "One-hot encoding was performed on the following columns:\n",
    "1. Account type\n",
    "2. Content type\n",
    "3. Stance on Sara\n",
    "\n",
    "\n",
    "### Account type\n",
    "\n",
    "The 'Account type' column is rewritten into the following columns:\n",
    "1. Anonymous\n",
    "2. Identified\n",
    "3. Media\n",
    "\n",
    "\n",
    "### Content type\n",
    "\n",
    "The 'Contenty type' column is rewritten into the following columns:\n",
    "1. Emotional\n",
    "2. Rational\n",
    "3. Transactional\n",
    "\n",
    "\n",
    "### Stance on Sara\n",
    "\n",
    "The 'Stance on Sara' column is rewritten into the following columns:\n",
    "1. Pro-Sara\n",
    "2. Anti-Sara\n",
    "3. Ambiguous\n",
    "\n",
    "---\n",
    "\n",
    "## Date Adjustment\n",
    "\n",
    "For the 'Date posted' column, the time is omitted to help get a better/tighter view of the particular day and month when a tweet was posted.\n",
    "\n",
    "---\n",
    "\n",
    "## Removal of Data Features\n",
    "\n",
    "The 'Views' column was omitted due to sparcity of data and no clear way to assign an estimated view due to skewed view counts of tweets that do have a view count.\n",
    "\n",
    "---\n",
    "\n",
    "! Run the cell below to load the dataset"
   ]
  },
  {
   "cell_type": "code",
   "execution_count": 29,
   "id": "9bf05d6d",
   "metadata": {
    "scrolled": true
   },
   "outputs": [
    {
     "name": "stdout",
     "output_type": "stream",
     "text": [
      "         ID          Timestamp  \\\n",
      "0      25-1  15/03/23 10:03:46   \n",
      "1      25-2  15/03/23 10:58:26   \n",
      "2      25-3  15/03/23 12:52:09   \n",
      "3      25-4  15/03/23 12:52:12   \n",
      "4      25-5  15/03/23 12:52:15   \n",
      "..      ...                ...   \n",
      "153  25-154  4/19/2023 4:37:00   \n",
      "154  25-155  4/19/2023 4:37:02   \n",
      "155  25-156  4/19/2023 4:37:03   \n",
      "156  25-157  4/19/2023 4:37:06   \n",
      "157  25-158  4/19/2023 4:37:07   \n",
      "\n",
      "                                             Tweet URL Group        Collector  \\\n",
      "0    https://twitter.com/kyeiaaaa/status/1539408632...    25   Cunanan, Ridge   \n",
      "1    https://twitter.com/itsTimheD_/status/15424700...    25   Cunanan, Ridge   \n",
      "2    https://twitter.com/DIFFANG1/status/1607271052...    25   Cunanan, Ridge   \n",
      "3    https://twitter.com/Mike62091243/status/152470...    25   Cunanan, Ridge   \n",
      "4    https://twitter.com/Jeongyawnie/status/1524668...    25   Cunanan, Ridge   \n",
      "..                                                 ...   ...              ...   \n",
      "153  https://twitter.com/cielomareez/status/1524714...    25  Serrano, Edriel   \n",
      "154  https://twitter.com/heesvnqt/status/1524711190...    25  Serrano, Edriel   \n",
      "155  https://twitter.com/gcgcgcg_/status/1524698483...    25  Serrano, Edriel   \n",
      "156  https://twitter.com/cheoltoujours/status/15246...    25  Serrano, Edriel   \n",
      "157  https://twitter.com/haviense/status/1524696023...    25  Serrano, Edriel   \n",
      "\n",
      "    Category             Topic      Keywords  Account handle  \\\n",
      "0       GOVT  Sara Duterte K12  abolish k-12       @kyeiaaaa   \n",
      "1       GOVT  Sara Duterte K12  abolish k-12     @itsTimheD_   \n",
      "2       GOVT  Sara Duterte K12  abolish k-12       @DIFFANG1   \n",
      "3       GOVT  Sara Duterte K12  abolish k-12   @Mike62091243   \n",
      "4       GOVT  Sara Duterte K12     sara k-14    @Jeongyawnie   \n",
      "..       ...               ...           ...             ...   \n",
      "153     GOVT  Sara Duterte K12  K-14 Duterte    @cielomareez   \n",
      "154     GOVT  Sara Duterte K12  K-14 Duterte       @heesvnqt   \n",
      "155     GOVT  Sara Duterte K12  K-14 Duterte       @gcgcgcg_   \n",
      "156     GOVT  Sara Duterte K12  K-14 Duterte  @cheoltoujours   \n",
      "157     GOVT  Sara Duterte K12  K-14 Duterte       @haviense   \n",
      "\n",
      "          Account name  ... Likes  Replies  Retweets  Quote Tweets Rating  \\\n",
      "0    keii || coding ??  ...  1649       15       316            57    N/A   \n",
      "1              Tayym D  ...     9        2         2             0    N/A   \n",
      "2              DIFFANG  ...    32        4         5             0    N/A   \n",
      "3         Mike Hanipol  ...     3        0         1             0    N/A   \n",
      "4                 Alex  ...   527        7        95            22    N/A   \n",
      "..                 ...  ...   ...      ...       ...           ...    ...   \n",
      "153           ( ???)??  ...     1        0         0             0    N/A   \n",
      "154          aphaelynx  ...     5        1         0             0    N/A   \n",
      "155                 ji  ...    20        0         1             0    N/A   \n",
      "156            tina ??  ...     8        1         2             0    N/A   \n",
      "157             denise  ...     0        0         0             0    N/A   \n",
      "\n",
      "                                             Reasoning              Remarks  \\\n",
      "0    Sara never made any mention of removing K-12. ...                  N/A   \n",
      "1    Sara never made any mention of removing K-12. ...          No location   \n",
      "2    Sara never made any mention of removing K-12. ...          No location   \n",
      "3    Sara never made any mention of removing K-12. ...               No bio   \n",
      "4    Sara never mentioned adding two more years to ...          No location   \n",
      "..                                                 ...                  ...   \n",
      "153  Sara never made any mention of removing K-12. ...  Inaccurate location   \n",
      "154  Sara never made any mention of removing K-12. ...  Inaccurate location   \n",
      "155  Sara never made any mention of removing K-12. ...          No location   \n",
      "156  Sara never made any mention of removing K-12. ...  Inaccurate location   \n",
      "157  Sara never made any mention of removing K-12. ...  No location, No bio   \n",
      "\n",
      "    Pro-Sara Anti-Sara Ambiguous  \n",
      "0          0         0         1  \n",
      "1          0         0         1  \n",
      "2          0         1         0  \n",
      "3          1         0         0  \n",
      "4          0         0         1  \n",
      "..       ...       ...       ...  \n",
      "153        0         0         1  \n",
      "154        0         0         1  \n",
      "155        0         1         0  \n",
      "156        0         0         1  \n",
      "157        0         0         1  \n",
      "\n",
      "[158 rows x 36 columns]\n"
     ]
    }
   ],
   "source": [
    "import numpy as np\n",
    "import pandas as pd\n",
    "import matplotlib.pyplot as plt\n",
    "import csv\n",
    "\n",
    "from sklearn.preprocessing import OneHotEncoder\n",
    "\n",
    "tweet_df = pd.read_csv('group25_data.csv', encoding='latin_1', na_filter = False)\n",
    "print(tweet_df)"
   ]
  },
  {
   "cell_type": "markdown",
   "id": "e25abc5d",
   "metadata": {},
   "source": [
    "## Comparison of Stance on Sara Values\n",
    "\n",
    "The following code produces a bar graph of the data for the Stance on Sara feature. Note that the feature was hot-encoded prior to graphing.\n",
    "\n",
    "---\n",
    "\n",
    "! Run the cell below to produce the bar graph"
   ]
  },
  {
   "cell_type": "code",
   "execution_count": 30,
   "id": "f92cdaa0",
   "metadata": {
    "scrolled": true
   },
   "outputs": [
    {
     "data": {
      "image/png": "[encoded data removed]",
      "text/plain": [
       "<Figure size 720x360 with 1 Axes>"
      ]
     },
     "metadata": {
      "needs_background": "light"
     },
     "output_type": "display_data"
    }
   ],
   "source": [
    "# Find summation of each feature to find the total number of accounts with the stance\n",
    "# This is possible because the columns only have 1 or 0 thanks to one-hot encoding\n",
    "ambiguous_cnt = tweet_df['Ambiguous'].sum()\n",
    "pro_cnt = tweet_df['Pro-Sara'].sum()\n",
    "anti_cnt = tweet_df['Anti-Sara'].sum()\n",
    "\n",
    "stances = ['Ambiguous', 'Pro-Sara', 'Anti-Sara']\n",
    "counts = [ambiguous_cnt, pro_cnt, anti_cnt]\n",
    "\n",
    "fig = plt.figure(figsize = (10, 5))\n",
    "\n",
    "plt.bar(stances, counts, color='blue', width=0.4)\n",
    "\n",
    "plt.xlabel(\"Stance on Sara\")\n",
    "plt.ylabel(\"No. of users\")\n",
    "plt.title(\"Stance on Sara of selected Twitter users\")\n",
    "plt.show()"
   ]
  },
  {
   "cell_type": "markdown",
   "id": "d1c59d69",
   "metadata": {},
   "source": [
    "## Temporal Data Analysis\n",
    "\n",
    "The following code produces a line graph of the dates when the tweets were posted.\n",
    "\n",
    "---\n",
    "\n",
    "! Run the code below to produce the line graph"
   ]
  },
  {
   "cell_type": "code",
   "execution_count": 48,
   "id": "ac8601fe",
   "metadata": {
    "scrolled": true
   },
   "outputs": [
    {
     "data": {
      "image/png": "[encoded data removed]",
      "text/plain": [
       "<Figure size 720x360 with 1 Axes>"
      ]
     },
     "metadata": {
      "needs_background": "light"
     },
     "output_type": "display_data"
    }
   ],
   "source": [
    "# Sorting function for dates\n",
    "def dateSort(datesList):\n",
    "    split_up = datesList.split('/')\n",
    "    return split_up[2], split_up[1], split_up[0]\n",
    "\n",
    "dates_dict = tweet_df['Date posted'].value_counts().to_dict()\n",
    "dates = list(dates_dict.keys())\n",
    "dates.sort(key=dateSort)\n",
    "\n",
    "date_counts = []\n",
    "\n",
    "# Produce value list that corresponds to order of the 'dates' list\n",
    "for i in dates:\n",
    "    date_counts.append(dates_dict[i])\n",
    "\n",
    "fig = plt.figure(figsize = (10, 5))\n",
    "plt.plot(dates, date_counts, '-go')\n",
    "\n",
    "plt.xlabel(\"Dates\")\n",
    "plt.xticks(dates, dates, rotation=45)\n",
    "plt.ylabel(\"No. of posts\")\n",
    "plt.title(\"No. of posts on a given date\")\n",
    "plt.show()"
   ]
  },
  {
   "cell_type": "code",
   "execution_count": null,
   "id": "d3c811f6",
   "metadata": {},
   "outputs": [],
   "source": []
  }
 ],
 "metadata": {
  "kernelspec": {
   "display_name": "Python 3 (ipykernel)",
   "language": "python",
   "name": "python3"
  },
  "language_info": {
   "codemirror_mode": {
    "name": "ipython",
    "version": 3
   },
   "file_extension": ".py",
   "mimetype": "text/x-python",
   "name": "python",
   "nbconvert_exporter": "python",
   "pygments_lexer": "ipython3",
   "version": "3.9.7"
  }
 },
 "nbformat": 4,
 "nbformat_minor": 5
}

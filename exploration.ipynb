{
 "cells": [
  {
   "attachments": {},
   "cell_type": "markdown",
   "id": "0ffd806b",
   "metadata": {},
   "source": [
    "# Data Exploration"
   ]
  },
  {
   "attachments": {},
   "cell_type": "markdown",
   "id": "fe74b223",
   "metadata": {},
   "source": [
    "## Missing Data\n",
    "\n",
    "Missing data was addressed in the following columns as follows:\n",
    "1. Account bio      -> N/A\n",
    "2. Location         -> N/A\n",
    "3. Tweet Translated -> N/A\n",
    "4. Screenshot       -> N/A\n",
    "5. Rating           -> N/A\n",
    "6. Remarks          -> N/A\n",
    "7. Quote Tweets     -> 0\n",
    "\n",
    "---\n",
    "\n",
    "## One Hot Encoding\n",
    "\n",
    "One-hot encoding allows for easier analysis of the dataset by allowing easier counting and sorting. One-hot encoding was performed on the following columns:\n",
    "1. Account type\n",
    "2. Content type\n",
    "3. Stance on Sara\n",
    "\n",
    "\n",
    "### Account type\n",
    "\n",
    "The 'Account type' column is rewritten into the following columns:\n",
    "1. Anonymous\n",
    "2. Identified\n",
    "3. Media\n",
    "\n",
    "\n",
    "### Content type\n",
    "\n",
    "The 'Content type' column is rewritten into the following columns:\n",
    "1. Emotional\n",
    "2. Rational\n",
    "3. Transactional\n",
    "\n",
    "\n",
    "### Stance on Sara\n",
    "\n",
    "The 'Stance on Sara' column is rewritten into the following columns:\n",
    "1. Pro-Sara\n",
    "2. Anti-Sara\n",
    "3. Ambiguous\n",
    "\n",
    "---\n",
    "\n",
    "## Date Adjustment\n",
    "\n",
    "For the 'Date posted' column, the time is omitted to help get a better/tighter view of the particular day and month when a tweet was posted.\n",
    "\n",
    "---\n",
    "\n",
    "## Removal of Data Features\n",
    "\n",
    "The 'Views' column was omitted due to sparcity of data and no clear way to assign an estimated view due to skewed view counts of tweets that do have a view count.\n",
    "\n",
    "---\n",
    "\n",
    "! Run the cell below to load the dataset"
   ]
  },
  {
   "cell_type": "code",
   "execution_count": 1,
   "id": "9bf05d6d",
   "metadata": {
    "scrolled": true
   },
   "outputs": [
    {
     "name": "stdout",
     "output_type": "stream",
     "text": [
      "         ID          Timestamp  \\\n",
      "0      25-1  15/03/23 10:03:46   \n",
      "1      25-2  15/03/23 10:58:26   \n",
      "2      25-3  15/03/23 12:52:09   \n",
      "3      25-4  15/03/23 12:52:12   \n",
      "4      25-5  15/03/23 12:52:15   \n",
      "..      ...                ...   \n",
      "153  25-154  4/19/2023 4:37:00   \n",
      "154  25-155  4/19/2023 4:37:02   \n",
      "155  25-156  4/19/2023 4:37:03   \n",
      "156  25-157  4/19/2023 4:37:06   \n",
      "157  25-158  4/19/2023 4:37:07   \n",
      "\n",
      "                                             Tweet URL Group        Collector  \\\n",
      "0    https://twitter.com/kyeiaaaa/status/1539408632...    25   Cunanan, Ridge   \n",
      "1    https://twitter.com/itsTimheD_/status/15424700...    25   Cunanan, Ridge   \n",
      "2    https://twitter.com/DIFFANG1/status/1607271052...    25   Cunanan, Ridge   \n",
      "3    https://twitter.com/Mike62091243/status/152470...    25   Cunanan, Ridge   \n",
      "4    https://twitter.com/Jeongyawnie/status/1524668...    25   Cunanan, Ridge   \n",
      "..                                                 ...   ...              ...   \n",
      "153  https://twitter.com/cielomareez/status/1524714...    25  Serrano, Edriel   \n",
      "154  https://twitter.com/heesvnqt/status/1524711190...    25  Serrano, Edriel   \n",
      "155  https://twitter.com/gcgcgcg_/status/1524698483...    25  Serrano, Edriel   \n",
      "156  https://twitter.com/cheoltoujours/status/15246...    25  Serrano, Edriel   \n",
      "157  https://twitter.com/haviense/status/1524696023...    25  Serrano, Edriel   \n",
      "\n",
      "    Category             Topic      Keywords  Account handle  \\\n",
      "0       GOVT  Sara Duterte K12  abolish k-12       @kyeiaaaa   \n",
      "1       GOVT  Sara Duterte K12  abolish k-12     @itsTimheD_   \n",
      "2       GOVT  Sara Duterte K12  abolish k-12       @DIFFANG1   \n",
      "3       GOVT  Sara Duterte K12  abolish k-12   @Mike62091243   \n",
      "4       GOVT  Sara Duterte K12     sara k-14    @Jeongyawnie   \n",
      "..       ...               ...           ...             ...   \n",
      "153     GOVT  Sara Duterte K12  K-14 Duterte    @cielomareez   \n",
      "154     GOVT  Sara Duterte K12  K-14 Duterte       @heesvnqt   \n",
      "155     GOVT  Sara Duterte K12  K-14 Duterte       @gcgcgcg_   \n",
      "156     GOVT  Sara Duterte K12  K-14 Duterte  @cheoltoujours   \n",
      "157     GOVT  Sara Duterte K12  K-14 Duterte       @haviense   \n",
      "\n",
      "          Account name  ... Likes  Replies  Retweets  Quote Tweets Rating  \\\n",
      "0    keii || coding ??  ...  1649       15       316            57    N/A   \n",
      "1              Tayym D  ...     9        2         2             0    N/A   \n",
      "2              DIFFANG  ...    32        4         5             0    N/A   \n",
      "3         Mike Hanipol  ...     3        0         1             0    N/A   \n",
      "4                 Alex  ...   527        7        95            22    N/A   \n",
      "..                 ...  ...   ...      ...       ...           ...    ...   \n",
      "153           ( ???)??  ...     1        0         0             0    N/A   \n",
      "154          aphaelynx  ...     5        1         0             0    N/A   \n",
      "155                 ji  ...    20        0         1             0    N/A   \n",
      "156            tina ??  ...     8        1         2             0    N/A   \n",
      "157             denise  ...     0        0         0             0    N/A   \n",
      "\n",
      "                                             Reasoning              Remarks  \\\n",
      "0    Sara never made any mention of removing K-12. ...                  N/A   \n",
      "1    Sara never made any mention of removing K-12. ...          No location   \n",
      "2    Sara never made any mention of removing K-12. ...          No location   \n",
      "3    Sara never made any mention of removing K-12. ...               No bio   \n",
      "4    Sara never mentioned adding two more years to ...          No location   \n",
      "..                                                 ...                  ...   \n",
      "153  Sara never made any mention of removing K-12. ...  Inaccurate location   \n",
      "154  Sara never made any mention of removing K-12. ...  Inaccurate location   \n",
      "155  Sara never made any mention of removing K-12. ...          No location   \n",
      "156  Sara never made any mention of removing K-12. ...  Inaccurate location   \n",
      "157  Sara never made any mention of removing K-12. ...  No location, No bio   \n",
      "\n",
      "    Pro-Sara Anti-Sara Ambiguous  \n",
      "0          0         0         1  \n",
      "1          0         0         1  \n",
      "2          0         1         0  \n",
      "3          1         0         0  \n",
      "4          0         0         1  \n",
      "..       ...       ...       ...  \n",
      "153        0         0         1  \n",
      "154        0         0         1  \n",
      "155        0         1         0  \n",
      "156        0         0         1  \n",
      "157        0         0         1  \n",
      "\n",
      "[158 rows x 36 columns]\n"
     ]
    }
   ],
   "source": [
    "import numpy as np\n",
    "import pandas as pd\n",
    "import matplotlib.pyplot as plt\n",
    "import seaborn as sns\n",
    "import csv\n",
    "\n",
    "from sklearn.preprocessing import OneHotEncoder\n",
    "\n",
    "tweet_df = pd.read_csv('group25_data.csv', encoding='latin_1', na_filter = False)\n",
    "print(tweet_df)"
   ]
  },
  {
   "attachments": {},
   "cell_type": "markdown",
   "id": "e25abc5d",
   "metadata": {},
   "source": [
    "## Comparison of Stance on Sara Values\n",
    "\n",
    "The following code produces a bar graph of the data for the Stance on Sara feature. Note that the feature was hot-encoded prior to graphing.\n",
    "\n",
    "---\n",
    "\n",
    "! Run the cell below to produce the bar graph"
   ]
  },
  {
   "cell_type": "code",
   "execution_count": 37,
   "id": "f92cdaa0",
   "metadata": {
    "scrolled": false
   },
   "outputs": [
    {
     "name": "stdout",
     "output_type": "stream",
     "text": [
      "Ambiguous\n",
      "0    48\n",
      "1    93\n",
      "Name: Anonymous, dtype: int64\n",
      "Pro-Sara\n",
      "0    137\n",
      "1      4\n",
      "Name: Anonymous, dtype: int64\n",
      "Anti-Sara\n",
      "0    97\n",
      "1    44\n",
      "Name: Anonymous, dtype: int64\n",
      "Ambiguous\n",
      "0    8\n",
      "1    9\n",
      "Name: Identified, dtype: int64\n",
      "Pro-Sara\n",
      "0    14\n",
      "1     3\n",
      "Name: Identified, dtype: int64\n",
      "Anti-Sara\n",
      "0    12\n",
      "1     5\n",
      "Name: Identified, dtype: int64\n"
     ]
    },
    {
     "data": {
      "image/png": "[encoded data removed]",
      "text/plain": [
       "<Figure size 720x360 with 1 Axes>"
      ]
     },
     "metadata": {
      "needs_background": "light"
     },
     "output_type": "display_data"
    }
   ],
   "source": [
    "# Find summation of each feature to find the total number of accounts with the stance\n",
    "# This is possible because the columns only have 1 or 0 thanks to one-hot encoding\n",
    "ambiguous_cnt = tweet_df['Ambiguous'].sum()\n",
    "pro_cnt = tweet_df['Pro-Sara'].sum()\n",
    "anti_cnt = tweet_df['Anti-Sara'].sum()\n",
    "\n",
    "stances = ['Ambiguous', 'Pro-Sara', 'Anti-Sara']\n",
    "counts = [ambiguous_cnt, pro_cnt, anti_cnt]\n",
    "\n",
    "print(tweet_df.groupby(['Ambiguous']).sum()['Anonymous'])\n",
    "print(tweet_df.groupby(['Pro-Sara']).sum()['Anonymous'])\n",
    "print(tweet_df.groupby(['Anti-Sara']).sum()['Anonymous'])\n",
    "\n",
    "print(tweet_df.groupby(['Ambiguous']).sum()['Identified'])\n",
    "print(tweet_df.groupby(['Pro-Sara']).sum()['Identified'])\n",
    "print(tweet_df.groupby(['Anti-Sara']).sum()['Identified'])\n",
    "\n",
    "X_axis = np.arange(len(stances))\n",
    "\n",
    "anon_cnt = [93, 4, 44]\n",
    "identified_cnt = [9, 3, 5]\n",
    "\n",
    "fig = plt.figure(figsize = (10, 5))\n",
    "\n",
    "plt.bar(X_axis - 0.17, anon_cnt, color='blue', width=0.3, label='Anonymous')\n",
    "plt.bar(X_axis + 0.17, identified_cnt, color='red', width=0.3, label='Identified')\n",
    "\n",
    "plt.xticks(X_axis, stances)\n",
    "plt.xlabel(\"Stance on Sara\")\n",
    "plt.ylabel(\"No. of users\")\n",
    "plt.title(\"Stance on Sara of selected Twitter users\")\n",
    "plt.legend()\n",
    "plt.show()"
   ]
  },
  {
   "attachments": {},
   "cell_type": "markdown",
   "id": "d0d29d8e",
   "metadata": {},
   "source": [
    "We can observe that anonymous accounts are much more common than identified ones. This is to be expected since most people don't directly share their full names on twitter. Additionally, Anti-Sara accounts were seen talking more often about this topic copared to Pro-Sara accounts. This may be because initial hateful reactions to a given headline are more common than fact checks that try to correct the error after the fact."
   ]
  },
  {
   "attachments": {},
   "cell_type": "markdown",
   "id": "d1c59d69",
   "metadata": {},
   "source": [
    "## Temporal Data Analysis\n",
    "\n",
    "The following code produces a line graph of the dates when the tweets were posted.\n",
    "\n",
    "---\n",
    "\n",
    "! Run the code below to produce the line graph"
   ]
  },
  {
   "cell_type": "code",
   "execution_count": 56,
   "id": "ac8601fe",
   "metadata": {
    "scrolled": false
   },
   "outputs": [
    {
     "data": {
      "image/png": "[encoded data removed]",
      "text/plain": [
       "<Figure size 720x360 with 1 Axes>"
      ]
     },
     "metadata": {
      "needs_background": "light"
     },
     "output_type": "display_data"
    }
   ],
   "source": [
    "# Sorting function for dates\n",
    "def dateSort(datesList):\n",
    "    split_up = datesList.split('/')\n",
    "    return split_up[2], split_up[1], split_up[0]\n",
    "\n",
    "dates_dict = tweet_df['Date posted'].value_counts().to_dict()\n",
    "dates = list(dates_dict.keys())\n",
    "dates.sort(key=dateSort)\n",
    "\n",
    "date_counts = []\n",
    "# Bin dates to Month/Year (All dates are in 2022)\n",
    "may = 0\n",
    "june = 0\n",
    "july = 0\n",
    "dec = 0\n",
    "binned_dates = [\"May 2022\", \"June 2022\", \"July 2022\", \"December 2022\"]\n",
    "\n",
    "for i in tweet_df[\"Date posted\"]:\n",
    "    if i[4] == \"5\":\n",
    "        may += 1\n",
    "    elif i[4] == \"6\":\n",
    "        june += 1\n",
    "    elif i[4] == \"7\":\n",
    "        july += 1\n",
    "    else:\n",
    "            dec += 1\n",
    "        \n",
    "binned_date_count = [may, june, july, dec]\n",
    "\n",
    "# Produce value list that corresponds to order of the 'dates' list\n",
    "#for i in dates:\n",
    "#    date_counts.append(dates_dict[i])\n",
    "\n",
    "fig = plt.figure(figsize = (10, 5))\n",
    "plt.plot(binned_dates, binned_date_count, '-go')\n",
    "\n",
    "plt.xlabel(\"Dates\")\n",
    "plt.xticks(binned_dates, binned_dates, rotation=45)\n",
    "plt.ylabel(\"No. of posts\")\n",
    "plt.title(\"No. of posts on a given date\")\n",
    "plt.show()"
   ]
  },
  {
   "attachments": {},
   "cell_type": "markdown",
   "id": "cce33bff",
   "metadata": {},
   "source": [
    "The majority of posts came from May of 2022 which was when the fake news spread. As time went on, the interest on this particular topic died down."
   ]
  },
  {
   "attachments": {},
   "cell_type": "markdown",
   "id": "342cb25f",
   "metadata": {},
   "source": [
    "## Correlation\n",
    "\n",
    "This section checks the correlation between each variable that we classify as engagement."
   ]
  },
  {
   "cell_type": "code",
   "execution_count": 67,
   "id": "3b7e8576",
   "metadata": {
    "scrolled": false
   },
   "outputs": [
    {
     "data": {
      "application/vnd.plotly.v1+json": {
       "config": {
        "plotlyServerURL": "https://plot.ly"
       },
       "data": [
        {
         "coloraxis": "coloraxis",
         "hovertemplate": "Features: %{x}<br>Features: %{y}<br>Correlation: %{z}<extra></extra>",
         "name": "0",
         "type": "heatmap",
         "x": [
          "Likes",
          "Replies",
          "Retweets",
          "Quote Tweets"
         ],
         "xaxis": "x",
         "y": [
          "Likes",
          "Replies",
          "Retweets",
          "Quote Tweets"
         ],
         "yaxis": "y",
         "z": [
          [
           1,
           0.9261907321931444,
           0.9817660811038028,
           0.9205600088610189
          ],
          [
           0.9261907321931444,
           1,
           0.8400710899299376,
           0.7727435392270589
          ],
          [
           0.9817660811038028,
           0.8400710899299376,
           1,
           0.9515510993132693
          ],
          [
           0.9205600088610189,
           0.7727435392270589,
           0.9515510993132693,
           1
          ]
         ]
        }
       ],
       "layout": {
        "coloraxis": {
         "cmax": 1,
         "cmin": -1,
         "colorbar": {
          "title": {
           "text": "Correlation"
          }
         },
         "colorscale": [
          [
           0,
           "rgb(103,0,31)"
          ],
          [
           0.1,
           "rgb(178,24,43)"
          ],
          [
           0.2,
           "rgb(214,96,77)"
          ],
          [
           0.3,
           "rgb(244,165,130)"
          ],
          [
           0.4,
           "rgb(253,219,199)"
          ],
          [
           0.5,
           "rgb(247,247,247)"
          ],
          [
           0.6,
           "rgb(209,229,240)"
          ],
          [
           0.7,
           "rgb(146,197,222)"
          ],
          [
           0.8,
           "rgb(67,147,195)"
          ],
          [
           0.9,
           "rgb(33,102,172)"
          ],
          [
           1,
           "rgb(5,48,97)"
          ]
         ]
        },
        "template": {
         "data": {
          "bar": [
           {
            "error_x": {
             "color": "#2a3f5f"
            },
            "error_y": {
             "color": "#2a3f5f"
            },
            "marker": {
             "line": {
              "color": "#E5ECF6",
              "width": 0.5
             },
             "pattern": {
              "fillmode": "overlay",
              "size": 10,
              "solidity": 0.2
             }
            },
            "type": "bar"
           }
          ],
          "barpolar": [
           {
            "marker": {
             "line": {
              "color": "#E5ECF6",
              "width": 0.5
             },
             "pattern": {
              "fillmode": "overlay",
              "size": 10,
              "solidity": 0.2
             }
            },
            "type": "barpolar"
           }
          ],
          "carpet": [
           {
            "aaxis": {
             "endlinecolor": "#2a3f5f",
             "gridcolor": "white",
             "linecolor": "white",
             "minorgridcolor": "white",
             "startlinecolor": "#2a3f5f"
            },
            "baxis": {
             "endlinecolor": "#2a3f5f",
             "gridcolor": "white",
             "linecolor": "white",
             "minorgridcolor": "white",
             "startlinecolor": "#2a3f5f"
            },
            "type": "carpet"
           }
          ],
          "choropleth": [
           {
            "colorbar": {
             "outlinewidth": 0,
             "ticks": ""
            },
            "type": "choropleth"
           }
          ],
          "contour": [
           {
            "colorbar": {
             "outlinewidth": 0,
             "ticks": ""
            },
            "colorscale": [
             [
              0,
              "#0d0887"
             ],
             [
              0.1111111111111111,
              "#46039f"
             ],
             [
              0.2222222222222222,
              "#7201a8"
             ],
             [
              0.3333333333333333,
              "#9c179e"
             ],
             [
              0.4444444444444444,
              "#bd3786"
             ],
             [
              0.5555555555555556,
              "#d8576b"
             ],
             [
              0.6666666666666666,
              "#ed7953"
             ],
             [
              0.7777777777777778,
              "#fb9f3a"
             ],
             [
              0.8888888888888888,
              "#fdca26"
             ],
             [
              1,
              "#f0f921"
             ]
            ],
            "type": "contour"
           }
          ],
          "contourcarpet": [
           {
            "colorbar": {
             "outlinewidth": 0,
             "ticks": ""
            },
            "type": "contourcarpet"
           }
          ],
          "heatmap": [
           {
            "colorbar": {
             "outlinewidth": 0,
             "ticks": ""
            },
            "colorscale": [
             [
              0,
              "#0d0887"
             ],
             [
              0.1111111111111111,
              "#46039f"
             ],
             [
              0.2222222222222222,
              "#7201a8"
             ],
             [
              0.3333333333333333,
              "#9c179e"
             ],
             [
              0.4444444444444444,
              "#bd3786"
             ],
             [
              0.5555555555555556,
              "#d8576b"
             ],
             [
              0.6666666666666666,
              "#ed7953"
             ],
             [
              0.7777777777777778,
              "#fb9f3a"
             ],
             [
              0.8888888888888888,
              "#fdca26"
             ],
             [
              1,
              "#f0f921"
             ]
            ],
            "type": "heatmap"
           }
          ],
          "heatmapgl": [
           {
            "colorbar": {
             "outlinewidth": 0,
             "ticks": ""
            },
            "colorscale": [
             [
              0,
              "#0d0887"
             ],
             [
              0.1111111111111111,
              "#46039f"
             ],
             [
              0.2222222222222222,
              "#7201a8"
             ],
             [
              0.3333333333333333,
              "#9c179e"
             ],
             [
              0.4444444444444444,
              "#bd3786"
             ],
             [
              0.5555555555555556,
              "#d8576b"
             ],
             [
              0.6666666666666666,
              "#ed7953"
             ],
             [
              0.7777777777777778,
              "#fb9f3a"
             ],
             [
              0.8888888888888888,
              "#fdca26"
             ],
             [
              1,
              "#f0f921"
             ]
            ],
            "type": "heatmapgl"
           }
          ],
          "histogram": [
           {
            "marker": {
             "pattern": {
              "fillmode": "overlay",
              "size": 10,
              "solidity": 0.2
             }
            },
            "type": "histogram"
           }
          ],
          "histogram2d": [
           {
            "colorbar": {
             "outlinewidth": 0,
             "ticks": ""
            },
            "colorscale": [
             [
              0,
              "#0d0887"
             ],
             [
              0.1111111111111111,
              "#46039f"
             ],
             [
              0.2222222222222222,
              "#7201a8"
             ],
             [
              0.3333333333333333,
              "#9c179e"
             ],
             [
              0.4444444444444444,
              "#bd3786"
             ],
             [
              0.5555555555555556,
              "#d8576b"
             ],
             [
              0.6666666666666666,
              "#ed7953"
             ],
             [
              0.7777777777777778,
              "#fb9f3a"
             ],
             [
              0.8888888888888888,
              "#fdca26"
             ],
             [
              1,
              "#f0f921"
             ]
            ],
            "type": "histogram2d"
           }
          ],
          "histogram2dcontour": [
           {
            "colorbar": {
             "outlinewidth": 0,
             "ticks": ""
            },
            "colorscale": [
             [
              0,
              "#0d0887"
             ],
             [
              0.1111111111111111,
              "#46039f"
             ],
             [
              0.2222222222222222,
              "#7201a8"
             ],
             [
              0.3333333333333333,
              "#9c179e"
             ],
             [
              0.4444444444444444,
              "#bd3786"
             ],
             [
              0.5555555555555556,
              "#d8576b"
             ],
             [
              0.6666666666666666,
              "#ed7953"
             ],
             [
              0.7777777777777778,
              "#fb9f3a"
             ],
             [
              0.8888888888888888,
              "#fdca26"
             ],
             [
              1,
              "#f0f921"
             ]
            ],
            "type": "histogram2dcontour"
           }
          ],
          "mesh3d": [
           {
            "colorbar": {
             "outlinewidth": 0,
             "ticks": ""
            },
            "type": "mesh3d"
           }
          ],
          "parcoords": [
           {
            "line": {
             "colorbar": {
              "outlinewidth": 0,
              "ticks": ""
             }
            },
            "type": "parcoords"
           }
          ],
          "pie": [
           {
            "automargin": true,
            "type": "pie"
           }
          ],
          "scatter": [
           {
            "fillpattern": {
             "fillmode": "overlay",
             "size": 10,
             "solidity": 0.2
            },
            "type": "scatter"
           }
          ],
          "scatter3d": [
           {
            "line": {
             "colorbar": {
              "outlinewidth": 0,
              "ticks": ""
             }
            },
            "marker": {
             "colorbar": {
              "outlinewidth": 0,
              "ticks": ""
             }
            },
            "type": "scatter3d"
           }
          ],
          "scattercarpet": [
           {
            "marker": {
             "colorbar": {
              "outlinewidth": 0,
              "ticks": ""
             }
            },
            "type": "scattercarpet"
           }
          ],
          "scattergeo": [
           {
            "marker": {
             "colorbar": {
              "outlinewidth": 0,
              "ticks": ""
             }
            },
            "type": "scattergeo"
           }
          ],
          "scattergl": [
           {
            "marker": {
             "colorbar": {
              "outlinewidth": 0,
              "ticks": ""
             }
            },
            "type": "scattergl"
           }
          ],
          "scattermapbox": [
           {
            "marker": {
             "colorbar": {
              "outlinewidth": 0,
              "ticks": ""
             }
            },
            "type": "scattermapbox"
           }
          ],
          "scatterpolar": [
           {
            "marker": {
             "colorbar": {
              "outlinewidth": 0,
              "ticks": ""
             }
            },
            "type": "scatterpolar"
           }
          ],
          "scatterpolargl": [
           {
            "marker": {
             "colorbar": {
              "outlinewidth": 0,
              "ticks": ""
             }
            },
            "type": "scatterpolargl"
           }
          ],
          "scatterternary": [
           {
            "marker": {
             "colorbar": {
              "outlinewidth": 0,
              "ticks": ""
             }
            },
            "type": "scatterternary"
           }
          ],
          "surface": [
           {
            "colorbar": {
             "outlinewidth": 0,
             "ticks": ""
            },
            "colorscale": [
             [
              0,
              "#0d0887"
             ],
             [
              0.1111111111111111,
              "#46039f"
             ],
             [
              0.2222222222222222,
              "#7201a8"
             ],
             [
              0.3333333333333333,
              "#9c179e"
             ],
             [
              0.4444444444444444,
              "#bd3786"
             ],
             [
              0.5555555555555556,
              "#d8576b"
             ],
             [
              0.6666666666666666,
              "#ed7953"
             ],
             [
              0.7777777777777778,
              "#fb9f3a"
             ],
             [
              0.8888888888888888,
              "#fdca26"
             ],
             [
              1,
              "#f0f921"
             ]
            ],
            "type": "surface"
           }
          ],
          "table": [
           {
            "cells": {
             "fill": {
              "color": "#EBF0F8"
             },
             "line": {
              "color": "white"
             }
            },
            "header": {
             "fill": {
              "color": "#C8D4E3"
             },
             "line": {
              "color": "white"
             }
            },
            "type": "table"
           }
          ]
         },
         "layout": {
          "annotationdefaults": {
           "arrowcolor": "#2a3f5f",
           "arrowhead": 0,
           "arrowwidth": 1
          },
          "autotypenumbers": "strict",
          "coloraxis": {
           "colorbar": {
            "outlinewidth": 0,
            "ticks": ""
           }
          },
          "colorscale": {
           "diverging": [
            [
             0,
             "#8e0152"
            ],
            [
             0.1,
             "#c51b7d"
            ],
            [
             0.2,
             "#de77ae"
            ],
            [
             0.3,
             "#f1b6da"
            ],
            [
             0.4,
             "#fde0ef"
            ],
            [
             0.5,
             "#f7f7f7"
            ],
            [
             0.6,
             "#e6f5d0"
            ],
            [
             0.7,
             "#b8e186"
            ],
            [
             0.8,
             "#7fbc41"
            ],
            [
             0.9,
             "#4d9221"
            ],
            [
             1,
             "#276419"
            ]
           ],
           "sequential": [
            [
             0,
             "#0d0887"
            ],
            [
             0.1111111111111111,
             "#46039f"
            ],
            [
             0.2222222222222222,
             "#7201a8"
            ],
            [
             0.3333333333333333,
             "#9c179e"
            ],
            [
             0.4444444444444444,
             "#bd3786"
            ],
            [
             0.5555555555555556,
             "#d8576b"
            ],
            [
             0.6666666666666666,
             "#ed7953"
            ],
            [
             0.7777777777777778,
             "#fb9f3a"
            ],
            [
             0.8888888888888888,
             "#fdca26"
            ],
            [
             1,
             "#f0f921"
            ]
           ],
           "sequentialminus": [
            [
             0,
             "#0d0887"
            ],
            [
             0.1111111111111111,
             "#46039f"
            ],
            [
             0.2222222222222222,
             "#7201a8"
            ],
            [
             0.3333333333333333,
             "#9c179e"
            ],
            [
             0.4444444444444444,
             "#bd3786"
            ],
            [
             0.5555555555555556,
             "#d8576b"
            ],
            [
             0.6666666666666666,
             "#ed7953"
            ],
            [
             0.7777777777777778,
             "#fb9f3a"
            ],
            [
             0.8888888888888888,
             "#fdca26"
            ],
            [
             1,
             "#f0f921"
            ]
           ]
          },
          "colorway": [
           "#636efa",
           "#EF553B",
           "#00cc96",
           "#ab63fa",
           "#FFA15A",
           "#19d3f3",
           "#FF6692",
           "#B6E880",
           "#FF97FF",
           "#FECB52"
          ],
          "font": {
           "color": "#2a3f5f"
          },
          "geo": {
           "bgcolor": "white",
           "lakecolor": "white",
           "landcolor": "#E5ECF6",
           "showlakes": true,
           "showland": true,
           "subunitcolor": "white"
          },
          "hoverlabel": {
           "align": "left"
          },
          "hovermode": "closest",
          "mapbox": {
           "style": "light"
          },
          "paper_bgcolor": "white",
          "plot_bgcolor": "#E5ECF6",
          "polar": {
           "angularaxis": {
            "gridcolor": "white",
            "linecolor": "white",
            "ticks": ""
           },
           "bgcolor": "#E5ECF6",
           "radialaxis": {
            "gridcolor": "white",
            "linecolor": "white",
            "ticks": ""
           }
          },
          "scene": {
           "xaxis": {
            "backgroundcolor": "#E5ECF6",
            "gridcolor": "white",
            "gridwidth": 2,
            "linecolor": "white",
            "showbackground": true,
            "ticks": "",
            "zerolinecolor": "white"
           },
           "yaxis": {
            "backgroundcolor": "#E5ECF6",
            "gridcolor": "white",
            "gridwidth": 2,
            "linecolor": "white",
            "showbackground": true,
            "ticks": "",
            "zerolinecolor": "white"
           },
           "zaxis": {
            "backgroundcolor": "#E5ECF6",
            "gridcolor": "white",
            "gridwidth": 2,
            "linecolor": "white",
            "showbackground": true,
            "ticks": "",
            "zerolinecolor": "white"
           }
          },
          "shapedefaults": {
           "line": {
            "color": "#2a3f5f"
           }
          },
          "ternary": {
           "aaxis": {
            "gridcolor": "white",
            "linecolor": "white",
            "ticks": ""
           },
           "baxis": {
            "gridcolor": "white",
            "linecolor": "white",
            "ticks": ""
           },
           "bgcolor": "#E5ECF6",
           "caxis": {
            "gridcolor": "white",
            "linecolor": "white",
            "ticks": ""
           }
          },
          "title": {
           "x": 0.05
          },
          "xaxis": {
           "automargin": true,
           "gridcolor": "white",
           "linecolor": "white",
           "ticks": "",
           "title": {
            "standoff": 15
           },
           "zerolinecolor": "white",
           "zerolinewidth": 2
          },
          "yaxis": {
           "automargin": true,
           "gridcolor": "white",
           "linecolor": "white",
           "ticks": "",
           "title": {
            "standoff": 15
           },
           "zerolinecolor": "white",
           "zerolinewidth": 2
          }
         }
        },
        "title": {
         "text": "Correlation of Various Engagement Features"
        },
        "xaxis": {
         "anchor": "y",
         "constrain": "domain",
         "domain": [
          0,
          1
         ],
         "scaleanchor": "y",
         "title": {
          "text": "Features"
         }
        },
        "yaxis": {
         "anchor": "x",
         "autorange": "reversed",
         "constrain": "domain",
         "domain": [
          0,
          1
         ],
         "title": {
          "text": "Features"
         }
        }
       }
      },
      "text/html": [
       "<div>                            <div id=\"5101047a-52ef-4089-ac47-577ee6434f5c\" class=\"plotly-graph-div\" style=\"height:525px; width:100%;\"></div>            <script type=\"text/javascript\">                require([\"plotly\"], function(Plotly) {                    window.PLOTLYENV=window.PLOTLYENV || {};                                    if (document.getElementById(\"5101047a-52ef-4089-ac47-577ee6434f5c\")) {                    Plotly.newPlot(                        \"5101047a-52ef-4089-ac47-577ee6434f5c\",                        [{\"coloraxis\":\"coloraxis\",\"name\":\"0\",\"x\":[\"Likes\",\"Replies\",\"Retweets\",\"Quote Tweets\"],\"y\":[\"Likes\",\"Replies\",\"Retweets\",\"Quote Tweets\"],\"z\":[[1.0,0.9261907321931444,0.9817660811038028,0.9205600088610189],[0.9261907321931444,1.0,0.8400710899299376,0.7727435392270589],[0.9817660811038028,0.8400710899299376,1.0,0.9515510993132693],[0.9205600088610189,0.7727435392270589,0.9515510993132693,1.0]],\"type\":\"heatmap\",\"xaxis\":\"x\",\"yaxis\":\"y\",\"hovertemplate\":\"Features: %{x}<br>Features: %{y}<br>Correlation: %{z}<extra></extra>\"}],                        {\"template\":{\"data\":{\"histogram2dcontour\":[{\"type\":\"histogram2dcontour\",\"colorbar\":{\"outlinewidth\":0,\"ticks\":\"\"},\"colorscale\":[[0.0,\"#0d0887\"],[0.1111111111111111,\"#46039f\"],[0.2222222222222222,\"#7201a8\"],[0.3333333333333333,\"#9c179e\"],[0.4444444444444444,\"#bd3786\"],[0.5555555555555556,\"#d8576b\"],[0.6666666666666666,\"#ed7953\"],[0.7777777777777778,\"#fb9f3a\"],[0.8888888888888888,\"#fdca26\"],[1.0,\"#f0f921\"]]}],\"choropleth\":[{\"type\":\"choropleth\",\"colorbar\":{\"outlinewidth\":0,\"ticks\":\"\"}}],\"histogram2d\":[{\"type\":\"histogram2d\",\"colorbar\":{\"outlinewidth\":0,\"ticks\":\"\"},\"colorscale\":[[0.0,\"#0d0887\"],[0.1111111111111111,\"#46039f\"],[0.2222222222222222,\"#7201a8\"],[0.3333333333333333,\"#9c179e\"],[0.4444444444444444,\"#bd3786\"],[0.5555555555555556,\"#d8576b\"],[0.6666666666666666,\"#ed7953\"],[0.7777777777777778,\"#fb9f3a\"],[0.8888888888888888,\"#fdca26\"],[1.0,\"#f0f921\"]]}],\"heatmap\":[{\"type\":\"heatmap\",\"colorbar\":{\"outlinewidth\":0,\"ticks\":\"\"},\"colorscale\":[[0.0,\"#0d0887\"],[0.1111111111111111,\"#46039f\"],[0.2222222222222222,\"#7201a8\"],[0.3333333333333333,\"#9c179e\"],[0.4444444444444444,\"#bd3786\"],[0.5555555555555556,\"#d8576b\"],[0.6666666666666666,\"#ed7953\"],[0.7777777777777778,\"#fb9f3a\"],[0.8888888888888888,\"#fdca26\"],[1.0,\"#f0f921\"]]}],\"heatmapgl\":[{\"type\":\"heatmapgl\",\"colorbar\":{\"outlinewidth\":0,\"ticks\":\"\"},\"colorscale\":[[0.0,\"#0d0887\"],[0.1111111111111111,\"#46039f\"],[0.2222222222222222,\"#7201a8\"],[0.3333333333333333,\"#9c179e\"],[0.4444444444444444,\"#bd3786\"],[0.5555555555555556,\"#d8576b\"],[0.6666666666666666,\"#ed7953\"],[0.7777777777777778,\"#fb9f3a\"],[0.8888888888888888,\"#fdca26\"],[1.0,\"#f0f921\"]]}],\"contourcarpet\":[{\"type\":\"contourcarpet\",\"colorbar\":{\"outlinewidth\":0,\"ticks\":\"\"}}],\"contour\":[{\"type\":\"contour\",\"colorbar\":{\"outlinewidth\":0,\"ticks\":\"\"},\"colorscale\":[[0.0,\"#0d0887\"],[0.1111111111111111,\"#46039f\"],[0.2222222222222222,\"#7201a8\"],[0.3333333333333333,\"#9c179e\"],[0.4444444444444444,\"#bd3786\"],[0.5555555555555556,\"#d8576b\"],[0.6666666666666666,\"#ed7953\"],[0.7777777777777778,\"#fb9f3a\"],[0.8888888888888888,\"#fdca26\"],[1.0,\"#f0f921\"]]}],\"surface\":[{\"type\":\"surface\",\"colorbar\":{\"outlinewidth\":0,\"ticks\":\"\"},\"colorscale\":[[0.0,\"#0d0887\"],[0.1111111111111111,\"#46039f\"],[0.2222222222222222,\"#7201a8\"],[0.3333333333333333,\"#9c179e\"],[0.4444444444444444,\"#bd3786\"],[0.5555555555555556,\"#d8576b\"],[0.6666666666666666,\"#ed7953\"],[0.7777777777777778,\"#fb9f3a\"],[0.8888888888888888,\"#fdca26\"],[1.0,\"#f0f921\"]]}],\"mesh3d\":[{\"type\":\"mesh3d\",\"colorbar\":{\"outlinewidth\":0,\"ticks\":\"\"}}],\"scatter\":[{\"fillpattern\":{\"fillmode\":\"overlay\",\"size\":10,\"solidity\":0.2},\"type\":\"scatter\"}],\"parcoords\":[{\"type\":\"parcoords\",\"line\":{\"colorbar\":{\"outlinewidth\":0,\"ticks\":\"\"}}}],\"scatterpolargl\":[{\"type\":\"scatterpolargl\",\"marker\":{\"colorbar\":{\"outlinewidth\":0,\"ticks\":\"\"}}}],\"bar\":[{\"error_x\":{\"color\":\"#2a3f5f\"},\"error_y\":{\"color\":\"#2a3f5f\"},\"marker\":{\"line\":{\"color\":\"#E5ECF6\",\"width\":0.5},\"pattern\":{\"fillmode\":\"overlay\",\"size\":10,\"solidity\":0.2}},\"type\":\"bar\"}],\"scattergeo\":[{\"type\":\"scattergeo\",\"marker\":{\"colorbar\":{\"outlinewidth\":0,\"ticks\":\"\"}}}],\"scatterpolar\":[{\"type\":\"scatterpolar\",\"marker\":{\"colorbar\":{\"outlinewidth\":0,\"ticks\":\"\"}}}],\"histogram\":[{\"marker\":{\"pattern\":{\"fillmode\":\"overlay\",\"size\":10,\"solidity\":0.2}},\"type\":\"histogram\"}],\"scattergl\":[{\"type\":\"scattergl\",\"marker\":{\"colorbar\":{\"outlinewidth\":0,\"ticks\":\"\"}}}],\"scatter3d\":[{\"type\":\"scatter3d\",\"line\":{\"colorbar\":{\"outlinewidth\":0,\"ticks\":\"\"}},\"marker\":{\"colorbar\":{\"outlinewidth\":0,\"ticks\":\"\"}}}],\"scattermapbox\":[{\"type\":\"scattermapbox\",\"marker\":{\"colorbar\":{\"outlinewidth\":0,\"ticks\":\"\"}}}],\"scatterternary\":[{\"type\":\"scatterternary\",\"marker\":{\"colorbar\":{\"outlinewidth\":0,\"ticks\":\"\"}}}],\"scattercarpet\":[{\"type\":\"scattercarpet\",\"marker\":{\"colorbar\":{\"outlinewidth\":0,\"ticks\":\"\"}}}],\"carpet\":[{\"aaxis\":{\"endlinecolor\":\"#2a3f5f\",\"gridcolor\":\"white\",\"linecolor\":\"white\",\"minorgridcolor\":\"white\",\"startlinecolor\":\"#2a3f5f\"},\"baxis\":{\"endlinecolor\":\"#2a3f5f\",\"gridcolor\":\"white\",\"linecolor\":\"white\",\"minorgridcolor\":\"white\",\"startlinecolor\":\"#2a3f5f\"},\"type\":\"carpet\"}],\"table\":[{\"cells\":{\"fill\":{\"color\":\"#EBF0F8\"},\"line\":{\"color\":\"white\"}},\"header\":{\"fill\":{\"color\":\"#C8D4E3\"},\"line\":{\"color\":\"white\"}},\"type\":\"table\"}],\"barpolar\":[{\"marker\":{\"line\":{\"color\":\"#E5ECF6\",\"width\":0.5},\"pattern\":{\"fillmode\":\"overlay\",\"size\":10,\"solidity\":0.2}},\"type\":\"barpolar\"}],\"pie\":[{\"automargin\":true,\"type\":\"pie\"}]},\"layout\":{\"autotypenumbers\":\"strict\",\"colorway\":[\"#636efa\",\"#EF553B\",\"#00cc96\",\"#ab63fa\",\"#FFA15A\",\"#19d3f3\",\"#FF6692\",\"#B6E880\",\"#FF97FF\",\"#FECB52\"],\"font\":{\"color\":\"#2a3f5f\"},\"hovermode\":\"closest\",\"hoverlabel\":{\"align\":\"left\"},\"paper_bgcolor\":\"white\",\"plot_bgcolor\":\"#E5ECF6\",\"polar\":{\"bgcolor\":\"#E5ECF6\",\"angularaxis\":{\"gridcolor\":\"white\",\"linecolor\":\"white\",\"ticks\":\"\"},\"radialaxis\":{\"gridcolor\":\"white\",\"linecolor\":\"white\",\"ticks\":\"\"}},\"ternary\":{\"bgcolor\":\"#E5ECF6\",\"aaxis\":{\"gridcolor\":\"white\",\"linecolor\":\"white\",\"ticks\":\"\"},\"baxis\":{\"gridcolor\":\"white\",\"linecolor\":\"white\",\"ticks\":\"\"},\"caxis\":{\"gridcolor\":\"white\",\"linecolor\":\"white\",\"ticks\":\"\"}},\"coloraxis\":{\"colorbar\":{\"outlinewidth\":0,\"ticks\":\"\"}},\"colorscale\":{\"sequential\":[[0.0,\"#0d0887\"],[0.1111111111111111,\"#46039f\"],[0.2222222222222222,\"#7201a8\"],[0.3333333333333333,\"#9c179e\"],[0.4444444444444444,\"#bd3786\"],[0.5555555555555556,\"#d8576b\"],[0.6666666666666666,\"#ed7953\"],[0.7777777777777778,\"#fb9f3a\"],[0.8888888888888888,\"#fdca26\"],[1.0,\"#f0f921\"]],\"sequentialminus\":[[0.0,\"#0d0887\"],[0.1111111111111111,\"#46039f\"],[0.2222222222222222,\"#7201a8\"],[0.3333333333333333,\"#9c179e\"],[0.4444444444444444,\"#bd3786\"],[0.5555555555555556,\"#d8576b\"],[0.6666666666666666,\"#ed7953\"],[0.7777777777777778,\"#fb9f3a\"],[0.8888888888888888,\"#fdca26\"],[1.0,\"#f0f921\"]],\"diverging\":[[0,\"#8e0152\"],[0.1,\"#c51b7d\"],[0.2,\"#de77ae\"],[0.3,\"#f1b6da\"],[0.4,\"#fde0ef\"],[0.5,\"#f7f7f7\"],[0.6,\"#e6f5d0\"],[0.7,\"#b8e186\"],[0.8,\"#7fbc41\"],[0.9,\"#4d9221\"],[1,\"#276419\"]]},\"xaxis\":{\"gridcolor\":\"white\",\"linecolor\":\"white\",\"ticks\":\"\",\"title\":{\"standoff\":15},\"zerolinecolor\":\"white\",\"automargin\":true,\"zerolinewidth\":2},\"yaxis\":{\"gridcolor\":\"white\",\"linecolor\":\"white\",\"ticks\":\"\",\"title\":{\"standoff\":15},\"zerolinecolor\":\"white\",\"automargin\":true,\"zerolinewidth\":2},\"scene\":{\"xaxis\":{\"backgroundcolor\":\"#E5ECF6\",\"gridcolor\":\"white\",\"linecolor\":\"white\",\"showbackground\":true,\"ticks\":\"\",\"zerolinecolor\":\"white\",\"gridwidth\":2},\"yaxis\":{\"backgroundcolor\":\"#E5ECF6\",\"gridcolor\":\"white\",\"linecolor\":\"white\",\"showbackground\":true,\"ticks\":\"\",\"zerolinecolor\":\"white\",\"gridwidth\":2},\"zaxis\":{\"backgroundcolor\":\"#E5ECF6\",\"gridcolor\":\"white\",\"linecolor\":\"white\",\"showbackground\":true,\"ticks\":\"\",\"zerolinecolor\":\"white\",\"gridwidth\":2}},\"shapedefaults\":{\"line\":{\"color\":\"#2a3f5f\"}},\"annotationdefaults\":{\"arrowcolor\":\"#2a3f5f\",\"arrowhead\":0,\"arrowwidth\":1},\"geo\":{\"bgcolor\":\"white\",\"landcolor\":\"#E5ECF6\",\"subunitcolor\":\"white\",\"showland\":true,\"showlakes\":true,\"lakecolor\":\"white\"},\"title\":{\"x\":0.05},\"mapbox\":{\"style\":\"light\"}}},\"xaxis\":{\"anchor\":\"y\",\"domain\":[0.0,1.0],\"scaleanchor\":\"y\",\"constrain\":\"domain\",\"title\":{\"text\":\"Features\"}},\"yaxis\":{\"anchor\":\"x\",\"domain\":[0.0,1.0],\"autorange\":\"reversed\",\"constrain\":\"domain\",\"title\":{\"text\":\"Features\"}},\"coloraxis\":{\"colorbar\":{\"title\":{\"text\":\"Correlation\"}},\"colorscale\":[[0.0,\"rgb(103,0,31)\"],[0.1,\"rgb(178,24,43)\"],[0.2,\"rgb(214,96,77)\"],[0.3,\"rgb(244,165,130)\"],[0.4,\"rgb(253,219,199)\"],[0.5,\"rgb(247,247,247)\"],[0.6,\"rgb(209,229,240)\"],[0.7,\"rgb(146,197,222)\"],[0.8,\"rgb(67,147,195)\"],[0.9,\"rgb(33,102,172)\"],[1.0,\"rgb(5,48,97)\"]],\"cmin\":-1,\"cmax\":1},\"title\":{\"text\":\"Correlation of Various Engagement Features\"}},                        {\"responsive\": true}                    ).then(function(){\n",
       "                            \n",
       "var gd = document.getElementById('5101047a-52ef-4089-ac47-577ee6434f5c');\n",
       "var x = new MutationObserver(function (mutations, observer) {{\n",
       "        var display = window.getComputedStyle(gd).display;\n",
       "        if (!display || display === 'none') {{\n",
       "            console.log([gd, 'removed!']);\n",
       "            Plotly.purge(gd);\n",
       "            observer.disconnect();\n",
       "        }}\n",
       "}});\n",
       "\n",
       "// Listen for the removal of the full notebook cells\n",
       "var notebookContainer = gd.closest('#notebook-container');\n",
       "if (notebookContainer) {{\n",
       "    x.observe(notebookContainer, {childList: true});\n",
       "}}\n",
       "\n",
       "// Listen for the clearing of the current output cell\n",
       "var outputEl = gd.closest('.output');\n",
       "if (outputEl) {{\n",
       "    x.observe(outputEl, {childList: true});\n",
       "}}\n",
       "\n",
       "                        })                };                });            </script>        </div>"
      ]
     },
     "metadata": {},
     "output_type": "display_data"
    }
   ],
   "source": [
    "import plotly.express as px\n",
    "\n",
    "features = ['Likes', 'Replies', 'Retweets', 'Quote Tweets']\n",
    "corr = tweet_df[features].corr()\n",
    "fig = px.imshow(corr,\n",
    "                color_continuous_scale='RdBu',\n",
    "                zmin=-1,\n",
    "                zmax=1,\n",
    "                labels=dict(x='Features', y='Features', color='Correlation'),\n",
    "                x=corr.columns,\n",
    "                y=corr.columns,\n",
    "                title='Correlation of Various Engagement Features')\n",
    "fig.show()"
   ]
  },
  {
   "attachments": {},
   "cell_type": "markdown",
   "id": "43bec5ad",
   "metadata": {},
   "source": [
    "## Some Scatterplots of engagement pairs"
   ]
  },
  {
   "cell_type": "code",
   "execution_count": 5,
   "id": "e020f6a0",
   "metadata": {
    "scrolled": false
   },
   "outputs": [
    {
     "data": {
      "image/png": "[encoded data removed]",
      "text/plain": [
       "<Figure size 432x288 with 1 Axes>"
      ]
     },
     "metadata": {
      "needs_background": "light"
     },
     "output_type": "display_data"
    },
    {
     "data": {
      "image/png": "[encoded data removed]",
      "text/plain": [
       "<Figure size 432x288 with 1 Axes>"
      ]
     },
     "metadata": {
      "needs_background": "light"
     },
     "output_type": "display_data"
    },
    {
     "data": {
      "image/png": "[encoded data removed]",
      "text/plain": [
       "<Figure size 432x288 with 1 Axes>"
      ]
     },
     "metadata": {
      "needs_background": "light"
     },
     "output_type": "display_data"
    }
   ],
   "source": [
    "x = tweet_df['Likes'].tolist()\n",
    "y = tweet_df['Retweets'].tolist()\n",
    "plt.scatter(x, y)\n",
    "plt.xlabel('Likes')\n",
    "plt.ylabel('Retweets')\n",
    "plt.title('Correlation between Likes and Retweets')\n",
    "plt.show()\n",
    "\n",
    "x = tweet_df['Quote Tweets'].tolist()\n",
    "y = tweet_df['Retweets'].tolist()\n",
    "plt.scatter(x, y)\n",
    "plt.xlabel('Quote Tweets')\n",
    "plt.ylabel('Retweets')\n",
    "plt.title('Correlation between Quote Tweets and Retweets')\n",
    "plt.show()\n",
    "\n",
    "x = tweet_df['Likes'].tolist()\n",
    "y = tweet_df['Quote Tweets'].tolist()\n",
    "plt.scatter(x, y)\n",
    "plt.xlabel('Likes')\n",
    "plt.ylabel('Quote Tweets')\n",
    "plt.title('Correlation between Likes and Quote Tweets')\n",
    "plt.show()"
   ]
  },
  {
   "attachments": {},
   "cell_type": "markdown",
   "id": "fd72321b",
   "metadata": {},
   "source": [
    "## Distribution of Follower Z-score"
   ]
  },
  {
   "cell_type": "code",
   "execution_count": 47,
   "id": "a2e44a3d",
   "metadata": {},
   "outputs": [
    {
     "name": "stdout",
     "output_type": "stream",
     "text": [
      "Number of outliers in 'Followers' (std=1): 18\n",
      "Number of outliers in 'Followers' (std=2): 9\n",
      "Number of outliers in 'Followers' (std=3): 7\n"
     ]
    },
    {
     "data": {
      "image/png": "[encoded data removed]",
      "text/plain": [
       "<Figure size 1152x864 with 2 Axes>"
      ]
     },
     "metadata": {
      "needs_background": "light"
     },
     "output_type": "display_data"
    }
   ],
   "source": [
    "from sklearn.preprocessing import StandardScaler\n",
    "\n",
    "i = tweet_df[(tweet_df.Followers == 50812)].index\n",
    "tweet_df = tweet_df.drop(i)\n",
    "tweet_df.reset_index(drop=True, inplace=True)\n",
    "\n",
    "df_scaled = tweet_df.copy(deep=True)\n",
    "\n",
    "scaler = StandardScaler()\n",
    "df_scaled[['Followers']] = scaler.fit_transform(df_scaled[['Followers']])\n",
    "\n",
    "zscore = df_scaled['Followers']\n",
    "\n",
    "n_out1 = len(zscore[abs(zscore) > 1])\n",
    "n_out2 = len(zscore[abs(zscore) > 2])\n",
    "n_out3 = len(zscore[abs(zscore) > 3])\n",
    "print(f\"Number of outliers in 'Followers' (std=1): {n_out1}\")\n",
    "print(f\"Number of outliers in 'Followers' (std=2): {n_out2}\")\n",
    "print(f\"Number of outliers in 'Followers' (std=3): {n_out3}\")\n",
    "\n",
    "# Define function for coloring bars\n",
    "def color_bars(ax, tweet_df):\n",
    "    for i in range(len(tweet_df)):\n",
    "        val = abs(tweet_df.loc[i, 'Followers'])\n",
    "        if val <= 1:\n",
    "            color = 'b'\n",
    "        elif val <= 2:\n",
    "            color = 'g'\n",
    "        elif val <= 3:\n",
    "            color = 'y'\n",
    "        else:\n",
    "            color = 'r'\n",
    "        ax.get_children()[i].set_color(color)\n",
    "        \n",
    "fig, (ax1, ax2) = plt.subplots(nrows=2, figsize=(16, 12))\n",
    "\n",
    "sns.barplot(x=df_scaled.index, y=df_scaled['Followers'], ax=ax1)\n",
    "sns.despine(ax=ax1)\n",
    "ax1.set(title='Followers Outliers', xlabel='Sample', ylabel='Followers (z-score)')\n",
    "ax1.set_xticks([0, len(df_scaled)-1])\n",
    "ax1.axhline(y=3, xmin=-0.5, xmax=len(df_scaled)-0.5, color='red', alpha=0.5, ls='--') # Standard deviation lines\n",
    "ax1.axhline(y=-3, xmin=-0.5, xmax=len(df_scaled)-0.5, color='red', alpha=0.5, ls='--')\n",
    "color_bars(ax1, df_scaled)\n",
    "\n",
    "df_sorted = df_scaled.sort_values(['Followers']).reset_index(drop=True)\n",
    "sns.barplot(x=df_sorted.index, y=df_sorted['Followers'], ax=ax2)\n",
    "\n",
    "sns.despine(ax=ax2)\n",
    "ax2.set(title='Followers Outliers', xlabel='Sample', ylabel='Followers (z-score)')\n",
    "ax2.set_xticks([0, len(df_sorted)-1])\n",
    "ax2.axhline(y=3, xmin=-0.5, xmax=len(df_sorted)-0.5, color='red', alpha=0.5, ls='--') # Standard deviation lines\n",
    "ax2.axhline(y=-3, xmin=-0.5, xmax=len(df_sorted)-0.5, color='red', alpha=0.5, ls='--')\n",
    "color_bars(ax2, df_sorted) # Color the bars\n",
    "\n",
    "plt.tight_layout()\n",
    "\n",
    "plt.show()"
   ]
  },
  {
   "attachments": {},
   "cell_type": "markdown",
   "id": "15f37113",
   "metadata": {},
   "source": [
    "## Natural Language Processing\n",
    "\n",
    "The following code loads the needed libraries and imports for natural language processing.\n",
    "\n",
    "---\n",
    "\n",
    "! Run the code below to prepare the libraries"
   ]
  },
  {
   "cell_type": "code",
   "execution_count": 9,
   "id": "63cd1a2e",
   "metadata": {},
   "outputs": [
    {
     "name": "stderr",
     "output_type": "stream",
     "text": [
      "[nltk_data] Downloading package punkt to\n",
      "[nltk_data]     C:\\Users\\RAC\\AppData\\Roaming\\nltk_data...\n",
      "[nltk_data]   Unzipping tokenizers\\punkt.zip.\n",
      "[nltk_data] Downloading package stopwords to\n",
      "[nltk_data]     C:\\Users\\RAC\\AppData\\Roaming\\nltk_data...\n",
      "[nltk_data]   Package stopwords is already up-to-date!\n",
      "[nltk_data] Downloading package wordnet to\n",
      "[nltk_data]     C:\\Users\\RAC\\AppData\\Roaming\\nltk_data...\n",
      "[nltk_data]   Package wordnet is already up-to-date!\n",
      "[nltk_data] Downloading package omw-1.4 to\n",
      "[nltk_data]     C:\\Users\\RAC\\AppData\\Roaming\\nltk_data...\n",
      "[nltk_data]   Package omw-1.4 is already up-to-date!\n"
     ]
    }
   ],
   "source": [
    "import nltk\n",
    "nltk.download('punkt')\n",
    "\n",
    "nltk.download('stopwords')\n",
    "nltk.download(\"wordnet\")\n",
    "nltk.download(\"omw-1.4\")\n",
    "\n",
    "from nltk.tokenize import sent_tokenize, word_tokenize\n",
    "from nltk.corpus import stopwords\n",
    "from nltk.stem import WordNetLemmatizer"
   ]
  },
  {
   "attachments": {},
   "cell_type": "markdown",
   "id": "4c47977d",
   "metadata": {},
   "source": [
    "## Tokenization\n",
    "\n",
    "The following code will tokenize all of the collected tweets and stores them in a list called 'tokenized'.\n",
    "\n",
    "---\n",
    "\n",
    "! Run the code below to tokenize the tweets"
   ]
  },
  {
   "cell_type": "code",
   "execution_count": 15,
   "id": "d4da3843",
   "metadata": {
    "scrolled": true
   },
   "outputs": [
    {
     "name": "stdout",
     "output_type": "stream",
     "text": [
      "['the', 'new', 'admin', 'wants', 'to', 'abolish', 'the', 'k-12', 'system', '.', 'imagine', 'tayong', 'mga', 'estudyante', 'na', 'naghirap', 'for', 'additional', '2', 'years', 'tas', 'may', 'balak', 'iabolish', '.', 'that', 'does', \"n't\", 'seem', 'fair']\n"
     ]
    }
   ],
   "source": [
    "tokenized = []\n",
    "for i in tweet_df['Tweet']:\n",
    "    tokenized.append(word_tokenize(i.lower()))\n",
    "    \n",
    "print(tokenized[1])"
   ]
  },
  {
   "attachments": {},
   "cell_type": "markdown",
   "id": "6f1dbc2c",
   "metadata": {},
   "source": [
    "## Removing Stopwords\n",
    "\n",
    "The following code will remove any stopwords found in the tweets. However, this will not remove the stopwords if punctuation is inserted within the words. The English stopwords were obtained from the nltk library while the Tagalog and Cebuano stopwords were obtained from the following github repositories:\n",
    "\n",
    "    Tagalog: https://github.com/stopwords-iso/stopwords-tl\n",
    "    Cebuano: https://github.com/digitalheir/cebuano-dictionary-js/blob/master/stop-words/stop-words.ts \n",
    "\n",
    "---\n",
    "\n",
    "! Run the code below to load the stopwords and remove them from all tweets"
   ]
  },
  {
   "cell_type": "code",
   "execution_count": 48,
   "id": "7c74e160",
   "metadata": {},
   "outputs": [
    {
     "name": "stdout",
     "output_type": "stream",
     "text": [
      "['new', 'admin', 'wants', 'abolish', 'k-12', 'system', '.', 'imagine', 'tayong', 'estudyante', 'naghirap', 'additional', '2', 'years', 'tas', 'balak', 'iabolish', '.', \"n't\", 'seem', 'fair']\n"
     ]
    }
   ],
   "source": [
    "# Open all stopwords and collect them into one object\n",
    "stops_en = set(stopwords.words('english'))\n",
    "\n",
    "f = open(\"./stopwords/stopwords_tl.txt\", \"r\")\n",
    "stops_tl = set(f.read().split(\"\\n\"))\n",
    "f.close()\n",
    "\n",
    "f = open(\"./stopwords/stopwords_cb.txt\", \"r\")\n",
    "stops_cb = set(f.read().split(\"\\n\"))\n",
    "f.close()\n",
    "\n",
    "stops = stops_cb.union(stops_en, stops_tl)\n",
    "\n",
    "# Clean all tweets\n",
    "cleaned = []\n",
    "for i in tokenized:\n",
    "    wordsFiltered = []\n",
    "    for w in i:\n",
    "        if w not in stops:\n",
    "            wordsFiltered.append(w)\n",
    "    cleaned.append(wordsFiltered)\n",
    "print(cleaned[1])"
   ]
  },
  {
   "attachments": {},
   "cell_type": "markdown",
   "id": "f4d5b481",
   "metadata": {},
   "source": [
    "## Lemmatization\n",
    "\n",
    "The following code will lemmatize the cleaned tweets, changing words to their root form wherever applicable.\n",
    "\n",
    "---\n",
    "\n",
    "! Run the code below to lemmatize the tweets"
   ]
  },
  {
   "cell_type": "code",
   "execution_count": 49,
   "id": "c23f41c9",
   "metadata": {},
   "outputs": [
    {
     "name": "stdout",
     "output_type": "stream",
     "text": [
      "['new', 'admin', 'want', 'abolish', 'k-12', 'system', '.', 'imagine', 'tayong', 'estudyante', 'naghirap', 'additional', '2', 'years', 'tas', 'balak', 'iabolish', '.', \"n't\", 'seem', 'fair']\n"
     ]
    }
   ],
   "source": [
    "# Stemming and lemmatization\n",
    "wnl = WordNetLemmatizer()\n",
    "lemmatized = []\n",
    "for i in cleaned:\n",
    "    wordsLemmatized = []\n",
    "    for w in i:\n",
    "        wordsLemmatized.append(wnl.lemmatize(w, pos=\"v\"))\n",
    "    lemmatized.append(wordsLemmatized)\n",
    "\n",
    "df2 = pd.DataFrame({'Tokenized' : tokenized.copy(), 'Cleaned' : cleaned.copy(), 'Lemmatized' : lemmatized.copy()})\n",
    "\n",
    "print(lemmatized[1])"
   ]
  }
 ],
 "metadata": {
  "kernelspec": {
   "display_name": "Python 3 (ipykernel)",
   "language": "python",
   "name": "python3"
  },
  "language_info": {
   "codemirror_mode": {
    "name": "ipython",
    "version": 3
   },
   "file_extension": ".py",
   "mimetype": "text/x-python",
   "name": "python",
   "nbconvert_exporter": "python",
   "pygments_lexer": "ipython3",
   "version": "3.9.7"
  }
 },
 "nbformat": 4,
 "nbformat_minor": 5
}
